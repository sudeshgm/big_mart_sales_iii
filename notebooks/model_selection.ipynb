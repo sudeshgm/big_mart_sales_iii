{
 "cells": [
  {
   "cell_type": "code",
   "execution_count": 3,
   "id": "cebbd6c3",
   "metadata": {},
   "outputs": [
    {
     "name": "stderr",
     "output_type": "stream",
     "text": [
      "c:\\Users\\miu3kor\\OneDrive - Bosch Group\\data_folder\\Personal\\practice\\big_mart_sales_iii\\notebooks\\..\\src\\data.py:35: FutureWarning: ChainedAssignmentError: behaviour will change in pandas 3.0!\n",
      "You are setting values through chained assignment. Currently this works in certain cases, but when using Copy-on-Write (which will become the default behaviour in pandas 3.0) this will never work to update the original DataFrame or Series, because the intermediate object on which we are setting values will behave as a copy.\n",
      "A typical example is when you are setting values in a column of a DataFrame, like:\n",
      "\n",
      "df[\"col\"][row_indexer] = value\n",
      "\n",
      "Use `df.loc[row_indexer, \"col\"] = values` instead, to perform the assignment in a single step and ensure this keeps updating the original `df`.\n",
      "\n",
      "See the caveats in the documentation: https://pandas.pydata.org/pandas-docs/stable/user_guide/indexing.html#returning-a-view-versus-a-copy\n",
      "\n",
      "  data[\"Item_Fat_Content\"][data[\"Item_Fat_Content\"] == key] = FAT_MAP[key]\n",
      "c:\\Users\\miu3kor\\OneDrive - Bosch Group\\data_folder\\Personal\\practice\\big_mart_sales_iii\\notebooks\\..\\src\\data.py:35: SettingWithCopyWarning: \n",
      "A value is trying to be set on a copy of a slice from a DataFrame\n",
      "\n",
      "See the caveats in the documentation: https://pandas.pydata.org/pandas-docs/stable/user_guide/indexing.html#returning-a-view-versus-a-copy\n",
      "  data[\"Item_Fat_Content\"][data[\"Item_Fat_Content\"] == key] = FAT_MAP[key]\n",
      "c:\\Users\\miu3kor\\OneDrive - Bosch Group\\data_folder\\Personal\\practice\\big_mart_sales_iii\\notebooks\\..\\src\\data.py:35: FutureWarning: ChainedAssignmentError: behaviour will change in pandas 3.0!\n",
      "You are setting values through chained assignment. Currently this works in certain cases, but when using Copy-on-Write (which will become the default behaviour in pandas 3.0) this will never work to update the original DataFrame or Series, because the intermediate object on which we are setting values will behave as a copy.\n",
      "A typical example is when you are setting values in a column of a DataFrame, like:\n",
      "\n",
      "df[\"col\"][row_indexer] = value\n",
      "\n",
      "Use `df.loc[row_indexer, \"col\"] = values` instead, to perform the assignment in a single step and ensure this keeps updating the original `df`.\n",
      "\n",
      "See the caveats in the documentation: https://pandas.pydata.org/pandas-docs/stable/user_guide/indexing.html#returning-a-view-versus-a-copy\n",
      "\n",
      "  data[\"Item_Fat_Content\"][data[\"Item_Fat_Content\"] == key] = FAT_MAP[key]\n",
      "c:\\Users\\miu3kor\\OneDrive - Bosch Group\\data_folder\\Personal\\practice\\big_mart_sales_iii\\notebooks\\..\\src\\data.py:35: SettingWithCopyWarning: \n",
      "A value is trying to be set on a copy of a slice from a DataFrame\n",
      "\n",
      "See the caveats in the documentation: https://pandas.pydata.org/pandas-docs/stable/user_guide/indexing.html#returning-a-view-versus-a-copy\n",
      "  data[\"Item_Fat_Content\"][data[\"Item_Fat_Content\"] == key] = FAT_MAP[key]\n",
      "c:\\Users\\miu3kor\\OneDrive - Bosch Group\\data_folder\\Personal\\practice\\big_mart_sales_iii\\notebooks\\..\\src\\data.py:35: FutureWarning: ChainedAssignmentError: behaviour will change in pandas 3.0!\n",
      "You are setting values through chained assignment. Currently this works in certain cases, but when using Copy-on-Write (which will become the default behaviour in pandas 3.0) this will never work to update the original DataFrame or Series, because the intermediate object on which we are setting values will behave as a copy.\n",
      "A typical example is when you are setting values in a column of a DataFrame, like:\n",
      "\n",
      "df[\"col\"][row_indexer] = value\n",
      "\n",
      "Use `df.loc[row_indexer, \"col\"] = values` instead, to perform the assignment in a single step and ensure this keeps updating the original `df`.\n",
      "\n",
      "See the caveats in the documentation: https://pandas.pydata.org/pandas-docs/stable/user_guide/indexing.html#returning-a-view-versus-a-copy\n",
      "\n",
      "  data[\"Item_Fat_Content\"][data[\"Item_Fat_Content\"] == key] = FAT_MAP[key]\n",
      "c:\\Users\\miu3kor\\OneDrive - Bosch Group\\data_folder\\Personal\\practice\\big_mart_sales_iii\\notebooks\\..\\src\\data.py:35: SettingWithCopyWarning: \n",
      "A value is trying to be set on a copy of a slice from a DataFrame\n",
      "\n",
      "See the caveats in the documentation: https://pandas.pydata.org/pandas-docs/stable/user_guide/indexing.html#returning-a-view-versus-a-copy\n",
      "  data[\"Item_Fat_Content\"][data[\"Item_Fat_Content\"] == key] = FAT_MAP[key]\n",
      "c:\\Users\\miu3kor\\OneDrive - Bosch Group\\data_folder\\Personal\\practice\\big_mart_sales_iii\\notebooks\\..\\src\\data.py:35: FutureWarning: ChainedAssignmentError: behaviour will change in pandas 3.0!\n",
      "You are setting values through chained assignment. Currently this works in certain cases, but when using Copy-on-Write (which will become the default behaviour in pandas 3.0) this will never work to update the original DataFrame or Series, because the intermediate object on which we are setting values will behave as a copy.\n",
      "A typical example is when you are setting values in a column of a DataFrame, like:\n",
      "\n",
      "df[\"col\"][row_indexer] = value\n",
      "\n",
      "Use `df.loc[row_indexer, \"col\"] = values` instead, to perform the assignment in a single step and ensure this keeps updating the original `df`.\n",
      "\n",
      "See the caveats in the documentation: https://pandas.pydata.org/pandas-docs/stable/user_guide/indexing.html#returning-a-view-versus-a-copy\n",
      "\n",
      "  data[\"Item_Fat_Content\"][data[\"Item_Fat_Content\"] == key] = FAT_MAP[key]\n",
      "c:\\Users\\miu3kor\\OneDrive - Bosch Group\\data_folder\\Personal\\practice\\big_mart_sales_iii\\notebooks\\..\\src\\data.py:35: SettingWithCopyWarning: \n",
      "A value is trying to be set on a copy of a slice from a DataFrame\n",
      "\n",
      "See the caveats in the documentation: https://pandas.pydata.org/pandas-docs/stable/user_guide/indexing.html#returning-a-view-versus-a-copy\n",
      "  data[\"Item_Fat_Content\"][data[\"Item_Fat_Content\"] == key] = FAT_MAP[key]\n",
      "c:\\Users\\miu3kor\\OneDrive - Bosch Group\\data_folder\\Personal\\practice\\big_mart_sales_iii\\notebooks\\..\\src\\data.py:35: FutureWarning: ChainedAssignmentError: behaviour will change in pandas 3.0!\n",
      "You are setting values through chained assignment. Currently this works in certain cases, but when using Copy-on-Write (which will become the default behaviour in pandas 3.0) this will never work to update the original DataFrame or Series, because the intermediate object on which we are setting values will behave as a copy.\n",
      "A typical example is when you are setting values in a column of a DataFrame, like:\n",
      "\n",
      "df[\"col\"][row_indexer] = value\n",
      "\n",
      "Use `df.loc[row_indexer, \"col\"] = values` instead, to perform the assignment in a single step and ensure this keeps updating the original `df`.\n",
      "\n",
      "See the caveats in the documentation: https://pandas.pydata.org/pandas-docs/stable/user_guide/indexing.html#returning-a-view-versus-a-copy\n",
      "\n",
      "  data[\"Item_Fat_Content\"][data[\"Item_Fat_Content\"] == key] = FAT_MAP[key]\n",
      "c:\\Users\\miu3kor\\OneDrive - Bosch Group\\data_folder\\Personal\\practice\\big_mart_sales_iii\\notebooks\\..\\src\\data.py:35: SettingWithCopyWarning: \n",
      "A value is trying to be set on a copy of a slice from a DataFrame\n",
      "\n",
      "See the caveats in the documentation: https://pandas.pydata.org/pandas-docs/stable/user_guide/indexing.html#returning-a-view-versus-a-copy\n",
      "  data[\"Item_Fat_Content\"][data[\"Item_Fat_Content\"] == key] = FAT_MAP[key]\n"
     ]
    },
    {
     "ename": "KeyError",
     "evalue": "'Item_Identifier_1'",
     "output_type": "error",
     "traceback": [
      "\u001b[31m---------------------------------------------------------------------------\u001b[39m",
      "\u001b[31mKeyError\u001b[39m                                  Traceback (most recent call last)",
      "\u001b[36mCell\u001b[39m\u001b[36m \u001b[39m\u001b[32mIn[3]\u001b[39m\u001b[32m, line 9\u001b[39m\n\u001b[32m      6\u001b[39m \u001b[38;5;28;01mfrom\u001b[39;00m\u001b[38;5;250m \u001b[39m\u001b[34;01msrc\u001b[39;00m\u001b[34;01m.\u001b[39;00m\u001b[34;01mdata\u001b[39;00m\u001b[38;5;250m \u001b[39m\u001b[38;5;28;01mimport\u001b[39;00m data_pipeline\n\u001b[32m      8\u001b[39m data_file_path = os.path.join(\u001b[33m'\u001b[39m\u001b[33m..\u001b[39m\u001b[33m'\u001b[39m, \u001b[33m'\u001b[39m\u001b[33mdata\u001b[39m\u001b[33m'\u001b[39m, \u001b[33m'\u001b[39m\u001b[33mtrain_v9rqX0R.csv\u001b[39m\u001b[33m'\u001b[39m)\n\u001b[32m----> \u001b[39m\u001b[32m9\u001b[39m X, y = \u001b[43mdata_pipeline\u001b[49m\u001b[43m(\u001b[49m\u001b[43mdata_file_path\u001b[49m\u001b[43m)\u001b[49m\n",
      "\u001b[36mFile \u001b[39m\u001b[32mc:\\Users\\miu3kor\\OneDrive - Bosch Group\\data_folder\\Personal\\practice\\big_mart_sales_iii\\notebooks\\..\\src\\data.py:81\u001b[39m, in \u001b[36mdata_pipeline\u001b[39m\u001b[34m(path)\u001b[39m\n\u001b[32m     75\u001b[39m processed_data = \u001b[38;5;28;01mNone\u001b[39;00m\n\u001b[32m     76\u001b[39m \u001b[38;5;28;01mfor\u001b[39;00m column \u001b[38;5;129;01min\u001b[39;00m CATEGORICAL_COLS:\n\u001b[32m     77\u001b[39m     \u001b[38;5;66;03m#5 Directly handle preprocessing of Item_Type.\u001b[39;00m\n\u001b[32m     78\u001b[39m     \u001b[38;5;66;03m#7 Directly handle preprocessing of Outlet_Identifier.\u001b[39;00m\n\u001b[32m     79\u001b[39m     \u001b[38;5;66;03m#10 Directly handle preprocessing of  Outlet_Location_Type. \u001b[39;00m\n\u001b[32m     80\u001b[39m     \u001b[38;5;66;03m#11 Directly handle preprocessing of  Outlet_Type. \u001b[39;00m\n\u001b[32m---> \u001b[39m\u001b[32m81\u001b[39m     encoded_col = \u001b[43mone_hot_encode\u001b[49m\u001b[43m(\u001b[49m\u001b[43mdata\u001b[49m\u001b[43m,\u001b[49m\u001b[43mcolumn\u001b[49m\u001b[43m)\u001b[49m\n\u001b[32m     82\u001b[39m     \u001b[38;5;28;01mif\u001b[39;00m processed_data \u001b[38;5;129;01mis\u001b[39;00m \u001b[38;5;28;01mNone\u001b[39;00m:\n\u001b[32m     83\u001b[39m         processed_data = encoded_col\n",
      "\u001b[36mFile \u001b[39m\u001b[32mc:\\Users\\miu3kor\\OneDrive - Bosch Group\\data_folder\\Personal\\practice\\big_mart_sales_iii\\notebooks\\..\\src\\data.py:62\u001b[39m, in \u001b[36mone_hot_encode\u001b[39m\u001b[34m(data, column)\u001b[39m\n\u001b[32m     52\u001b[39m \u001b[38;5;28;01mdef\u001b[39;00m\u001b[38;5;250m \u001b[39m\u001b[34mone_hot_encode\u001b[39m(data, column):\n\u001b[32m     53\u001b[39m \u001b[38;5;250m    \u001b[39m\u001b[33;03m\"\"\"Converts labels into one hot encoded data\u001b[39;00m\n\u001b[32m     54\u001b[39m \n\u001b[32m     55\u001b[39m \u001b[33;03m    Args:\u001b[39;00m\n\u001b[32m   (...)\u001b[39m\u001b[32m     60\u001b[39m \u001b[33;03m        np.Ndarray: Encoded data\u001b[39;00m\n\u001b[32m     61\u001b[39m \u001b[33;03m    \"\"\"\u001b[39;00m    \n\u001b[32m---> \u001b[39m\u001b[32m62\u001b[39m     encoder = OneHotEncoder(\u001b[43mCLASSES\u001b[49m\u001b[43m[\u001b[49m\u001b[43mcolumn\u001b[49m\u001b[43m]\u001b[49m)\n\u001b[32m     63\u001b[39m     encoded_col = encoder.fit_transform(data[column])\n\u001b[32m     64\u001b[39m     \u001b[38;5;28;01mreturn\u001b[39;00m encoded_col\n",
      "\u001b[31mKeyError\u001b[39m: 'Item_Identifier_1'"
     ]
    }
   ],
   "source": [
    "# Load preprocessed data\n",
    "import os\n",
    "import sys\n",
    "sys.path.append('..')\n",
    "\n",
    "from src.data import data_pipeline\n",
    "\n",
    "data_file_path = os.path.join('..', 'data', 'train_v9rqX0R.csv')\n",
    "X, y = data_pipeline(data_file_path)"
   ]
  },
  {
   "cell_type": "code",
   "execution_count": null,
   "id": "f6a7aa61",
   "metadata": {},
   "outputs": [],
   "source": []
  },
  {
   "cell_type": "code",
   "execution_count": null,
   "id": "346be734",
   "metadata": {},
   "outputs": [],
   "source": [
    "from sklearn.linear_model import LinearRegression\n",
    "\n",
    "linear_model = LinearRegression()"
   ]
  }
 ],
 "metadata": {
  "kernelspec": {
   "display_name": "Python 3",
   "language": "python",
   "name": "python3"
  },
  "language_info": {
   "codemirror_mode": {
    "name": "ipython",
    "version": 3
   },
   "file_extension": ".py",
   "mimetype": "text/x-python",
   "name": "python",
   "nbconvert_exporter": "python",
   "pygments_lexer": "ipython3",
   "version": "3.11.9"
  }
 },
 "nbformat": 4,
 "nbformat_minor": 5
}

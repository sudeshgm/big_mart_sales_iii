{
 "cells": [
  {
   "cell_type": "code",
   "execution_count": 55,
   "id": "2089ff99",
   "metadata": {},
   "outputs": [],
   "source": [
    "import os\n",
    "\n",
    "import numpy as np\n",
    "import pandas as pd\n",
    "\n",
    "csv_path = os.path.join('..', 'data', 'train_v9rqX0R.csv')\n",
    "data = pd.read_csv(csv_path)"
   ]
  },
  {
   "cell_type": "code",
   "execution_count": null,
   "id": "13203dc9",
   "metadata": {},
   "outputs": [
    {
     "name": "stdout",
     "output_type": "stream",
     "text": [
      "Total data samples: 8523\n",
      "1559\n",
      "3\n",
      "26\n",
      "60\n"
     ]
    }
   ],
   "source": [
    "# Data summary\n",
    "data.head(2)\n",
    "print(\"Total data samples:\", len(data)) # 8523\n",
    "\n",
    "\n",
    "# Item_Identifier           | Categorical | Alphanumeric | split text 1559->89 | X | ✓ \n",
    "# Item_Weight               | Numerical   | Float        | NaN/Normalize       | X | \n",
    "# Item_Fat_Content          | Categorical | Text         | map 5 -> 2          | X | ✓\n",
    "# Item_Visibility           | Numerical   | Float        | Normalize           | X |\n",
    "# Item_Type                 | Categorical | Text         | too many ?          | X | \n",
    "# Item_MRP                  | Numerical   | Float        | Normalize           | X |\n",
    "# Outlet_Identifier         | Categorical | Alphanumeric | cant do much        | X | ✓\n",
    "# Outlet_Establishment_Year | Numerical   | Integer      | Normalize           | X |\n",
    "# Outlet_Size               | Categorical | Text         | NaN                 | X |\n",
    "# Outlet_Location_Type      | Categorical | Numerical    | try numerical       | X | --\n",
    "# Outlet_Type               | Categorical | Alphanumeric | try merging         | X | --\n",
    "# Item_Outlet_Sales         | Numerical   | Float        | Normalize           | y |\n"
   ]
  },
  {
   "cell_type": "code",
   "execution_count": null,
   "id": "0211ea07",
   "metadata": {},
   "outputs": [],
   "source": [
    "# NaN handling\n",
    "for col_name in data.columns: # NaN in Item_Weight and Outlet_Size\n",
    "    if True in pd.unique((data[col_name].isna())):\n",
    "        print(f\"NaN in {col_name}\")"
   ]
  },
  {
   "cell_type": "code",
   "execution_count": null,
   "id": "7d7cd8f3",
   "metadata": {},
   "outputs": [
    {
     "name": "stdout",
     "output_type": "stream",
     "text": [
      "Unique Outlet_Identifier: ['OUT049' 'OUT018' 'OUT010' 'OUT013' 'OUT027' 'OUT045' 'OUT017' 'OUT046'\n",
      " 'OUT035' 'OUT019']\n"
     ]
    }
   ],
   "source": [
    "# Categoricals\n",
    "for col_name in [\"Item_Identifier\", \"Item_Fat_Content\", \"Item_Type\",\n",
    "                 \"Outlet_Identifier\",\"Outlet_Size\", \"Outlet_Location_Type\",\"Outlet_Type\"]:\n",
    "    print(f\"Unique {col_name}:\", len(pd.unique(data[col_name])))\n",
    "    # Too many in Item_Identifier. Can we split it and categorize ?\n",
    "    # Item_Fat_Content: only 2 categories. ['Low Fat' 'Regular' 'low fat' 'LF' 'reg']\n",
    "    # Item_Type Has 16. Can we merge some based on some logic ?\n",
    "    # Outlet_Identifier . Has 10. Cant do much here.\n",
    "    # Outlet_Size: Only 3 categories . ['Medium' nan 'High' 'Small']\n",
    "    # Outlet_Location_Type. 3 categories. Try both Categ & numer ['Tier 1' 'Tier 3' 'Tier 2']\n",
    "    # Outlet_Type 4 catogories. Can we merge some ? ['Supermarket Type1' 'Supermarket Type2' 'Grocery Store' 'Supermarket Type3']\n",
    "    "
   ]
  }
 ],
 "metadata": {
  "kernelspec": {
   "display_name": "Python 3",
   "language": "python",
   "name": "python3"
  },
  "language_info": {
   "codemirror_mode": {
    "name": "ipython",
    "version": 3
   },
   "file_extension": ".py",
   "mimetype": "text/x-python",
   "name": "python",
   "nbconvert_exporter": "python",
   "pygments_lexer": "ipython3",
   "version": "3.11.9"
  }
 },
 "nbformat": 4,
 "nbformat_minor": 5
}

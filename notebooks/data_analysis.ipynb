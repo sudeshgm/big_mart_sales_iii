{
 "cells": [
  {
   "cell_type": "code",
   "execution_count": 15,
   "id": "2089ff99",
   "metadata": {},
   "outputs": [],
   "source": [
    "import os\n",
    "\n",
    "import numpy as np\n",
    "import matplotlib.pyplot as plt\n",
    "import pandas as pd\n",
    "\n",
    "csv_path = os.path.join('..', 'data', 'train_v9rqX0R.csv')\n",
    "data = pd.read_csv(csv_path)"
   ]
  },
  {
   "cell_type": "code",
   "execution_count": null,
   "id": "13203dc9",
   "metadata": {},
   "outputs": [
    {
     "name": "stdout",
     "output_type": "stream",
     "text": [
      "Total data samples: 8523\n"
     ]
    }
   ],
   "source": [
    "# Data summary\n",
    "data.head(2)\n",
    "print(\"Total data samples:\", len(data)) # 8523\n",
    "\n",
    "# Id | Column                    | Type        | Data   | ToDo                 | X/y | Dim | processed \n",
    "#  1 | Item_Identifier           | Categorical | String | split text 1559->89  |  X  |  89 | ✓ \n",
    "#  2 | Item_Weight               | Numerical   | Float  | NaN/Normalize        |  X  |  01 | ✓\n",
    "#  3 | Item_Fat_Content          | Categorical | String | map 5 -> 2           |  X  |  02 | ✓\n",
    "#  4 | Item_Visibility           | Numerical   | Float  | Normalize            |  X  |  01 | ✓\n",
    "#  5 | Item_Type                 | Categorical | String | too many ?           |  X  |  16 | ✓\n",
    "#  6 | Item_MRP                  | Numerical   | Float  | Normalize            |  X  |  01 | ✓\n",
    "#  7 | Outlet_Identifier         | Categorical | String | cant do much         |  X  |  10 | ✓\n",
    "#  8 | Outlet_Establishment_Year | Numerical   | Int    | Normalize,try unnorm |  X  |  01 | ✓\n",
    "#  9 | Outlet_Size               | Categorical | String | NaN                  |  X  |  03 | ✓\n",
    "# 10 | Outlet_Location_Type      | Categorical | String | ordered numerical    |  X  |  01 | ✓\n",
    "# 11 | Outlet_Type               | Categorical | String | ordered numerical    |  X  |  01 | ✓\n",
    "# 12 | Item_Outlet_Sales         | Numerical   | Float  | Highly skewed        |  y  |  01 | ✓\n"
   ]
  },
  {
   "cell_type": "code",
   "execution_count": 82,
   "id": "b11e483e",
   "metadata": {},
   "outputs": [
    {
     "name": "stdout",
     "output_type": "stream",
     "text": [
      "Unique Item_Identifier: 1559\n",
      "3\n",
      "26\n",
      "60\n"
     ]
    }
   ],
   "source": [
    "#1 --------- Item_Identifier ---------\n",
    "# Categorical Alphanumeric\n",
    "# Total 1559 unique ids. Very high dimensional\n",
    "print(f\"Unique Item_Identifier:\", len(pd.unique(data[\"Item_Identifier\"])))\n",
    "print(len(pd.unique(data[\"Item_Identifier\"].str[0:2])))\n",
    "print(len(pd.unique(data[\"Item_Identifier\"].str[2:3])))\n",
    "print(len(pd.unique(data[\"Item_Identifier\"].str[3:])))\n",
    "# Splitting will reduce the dimensions to 89\n",
    "# ✓"
   ]
  },
  {
   "cell_type": "code",
   "execution_count": null,
   "id": "d7dcf2c2",
   "metadata": {},
   "outputs": [
    {
     "name": "stdout",
     "output_type": "stream",
     "text": [
      "4.555\n",
      "12.857645184135977\n",
      "21.35\n"
     ]
    },
    {
     "name": "stderr",
     "output_type": "stream",
     "text": [
      "C:\\Users\\miu3kor\\AppData\\Local\\Temp\\ipykernel_24032\\13185969.py:13: FutureWarning: Series.fillna with 'method' is deprecated and will raise in a future version. Use obj.ffill() or obj.bfill() instead.\n",
      "  lambda x: x.fillna(method='ffill').fillna(method='bfill')\n"
     ]
    },
    {
     "name": "stdout",
     "output_type": "stream",
     "text": [
      "8523\n",
      "8519\n"
     ]
    },
    {
     "data": {
      "image/png": "[encoded data removed]",
      "text/plain": [
       "<Figure size 640x480 with 1 Axes>"
      ]
     },
     "metadata": {},
     "output_type": "display_data"
    }
   ],
   "source": [
    "#2 --------- Item_Weight ---------\n",
    "# Numerical Float\n",
    "print(np.min(data[\"Item_Weight\"])) # 4.555\n",
    "print(np.mean(data[\"Item_Weight\"])) # 12.857645184135977\n",
    "print(np.max(data[\"Item_Weight\"])) # 21.35\n",
    "plt.hist(data[\"Item_Weight\"], bins=100)\n",
    "# Distribution is not skewed nor is it centered around a value.\n",
    "pd.unique(data[\"Item_Weight\"].isna())\n",
    "# Has NaNs\n",
    "len(data[data[\"Item_Weight\"].isna()])\n",
    "# 1463 rows have NaN. Simply dropping them is not a solution.\n",
    "data['Item_Weight'] = data.groupby('Item_Identifier')['Item_Weight'].transform(\n",
    "    lambda x: x.fillna(method='ffill').fillna(method='bfill')\n",
    ")\n",
    "# only 4 are left. Drop them.\n",
    "print(len(data))\n",
    "data.dropna(subset=['Item_Weight'],inplace=True)\n",
    "print(len(data))\n",
    "# ✓"
   ]
  },
  {
   "cell_type": "code",
   "execution_count": 84,
   "id": "7428e88b",
   "metadata": {},
   "outputs": [
    {
     "name": "stdout",
     "output_type": "stream",
     "text": [
      "Unique Item_Fat_Content: ['Low Fat' 'Regular' 'low fat' 'LF' 'reg']\n"
     ]
    }
   ],
   "source": [
    "#3 --------- Item_Fat_Content ---------         \n",
    "# Categorical Text\n",
    "print(f\"Unique Item_Fat_Content:\", pd.unique(data[\"Item_Fat_Content\"]))\n",
    "# Item_Fat_Content: only 2 categories. ['Low Fat' 'Regular' 'low fat' 'LF' 'reg']\n",
    "# We can map it using some dict\n",
    "# ✓"
   ]
  },
  {
   "cell_type": "code",
   "execution_count": 85,
   "id": "9a3a235b",
   "metadata": {},
   "outputs": [
    {
     "name": "stdout",
     "output_type": "stream",
     "text": [
      "0.0\n",
      "0.06613202877895107\n",
      "0.328390948\n",
      "Fraction below 0.2: 0.98\n"
     ]
    },
    {
     "data": {
      "image/png": "[encoded data removed]",
      "text/plain": [
       "<Figure size 640x480 with 1 Axes>"
      ]
     },
     "metadata": {},
     "output_type": "display_data"
    }
   ],
   "source": [
    "#4 --------- Item_Visibility ---------         \n",
    "# Numerical float positive value.\n",
    "# Normalize it to range from 0 to 1 to match the scaling with other features.\n",
    "print(np.min(data[\"Item_Visibility\"])) # 0.0\n",
    "print(np.mean(data[\"Item_Visibility\"])) # 0.06613202877895107\n",
    "print(np.max(data[\"Item_Visibility\"])) # 0.328390948\n",
    "plt.hist(data[\"Item_Visibility\"], bins=100)\n",
    "# histogram is mostly populated near zero. May be we can clip higher values to max 0.2\n",
    "threshold = 0.2\n",
    "fraction_below = (data[\"Item_Visibility\"] < threshold).mean()\n",
    "print(f\"Fraction below {threshold}: {fraction_below:.2f}\")\n",
    "# ✓\n"
   ]
  },
  {
   "cell_type": "code",
   "execution_count": null,
   "id": "f896ca23",
   "metadata": {},
   "outputs": [
    {
     "name": "stdout",
     "output_type": "stream",
     "text": [
      "Unique Item_Type: 16\n"
     ]
    },
    {
     "data": {
      "text/plain": [
       "Item_Type\n",
       "Fruits and Vegetables    1232\n",
       "Snack Foods              1200\n",
       "Household                 910\n",
       "Frozen Foods              856\n",
       "Dairy                     682\n",
       "Canned                    649\n",
       "Baking Goods              648\n",
       "Health and Hygiene        520\n",
       "Soft Drinks               445\n",
       "Meat                      425\n",
       "Breads                    251\n",
       "Hard Drinks               214\n",
       "Others                    169\n",
       "Starchy Foods             148\n",
       "Breakfast                 110\n",
       "Seafood                    64\n",
       "Name: count, dtype: int64"
      ]
     },
     "execution_count": 97,
     "metadata": {},
     "output_type": "execute_result"
    }
   ],
   "source": [
    "#  5 --------- Item_Type ---------\n",
    "# Categorical String\n",
    "# too many (16) ? Can we merge some ?\n",
    "# ['Dairy' 'Soft Drinks' 'Meat' 'Fruits and Vegetables' 'Household'\n",
    "#  'Baking Goods' 'Snack Foods' 'Frozen Foods' 'Breakfast'\n",
    "#  'Health and Hygiene' 'Hard Drinks' 'Canned' 'Breads' 'Starchy Foods'\n",
    "#  'Others' 'Seafood']\n",
    "print(f\"Unique Item_Type:\", len(pd.unique(data[\"Item_Type\"])))\n",
    "unique_item_ids = pd.unique(data[\"Item_Identifier\"])\n",
    "for id in unique_item_ids:\n",
    "    item_types = pd.unique(data[\"Item_Type\"][data[\"Item_Identifier\"] == id])\n",
    "    if len(item_types) > 1:\n",
    "        print(item_types)\n",
    "    # No item is mapped to multiple type. Cant merge with this logic.\n",
    "data[\"Item_Type\"].value_counts()\n",
    "# None of them are close to zero so cant merge with this logic too.\n",
    "# --"
   ]
  },
  {
   "cell_type": "code",
   "execution_count": null,
   "id": "6fbff26e",
   "metadata": {},
   "outputs": [
    {
     "name": "stdout",
     "output_type": "stream",
     "text": [
      "31.29\n",
      "140.9927819781767\n",
      "266.8884\n"
     ]
    },
    {
     "data": {
      "text/plain": [
       "(array([ 36.,  84., 121., 111.,  99.,  98., 116.,  97.,  82.,  79., 110.,\n",
       "         95.,  79.,  76.,  55.,   3.,   1.,  18.,  63.,  73.,  75.,  70.,\n",
       "         98., 106., 128.,  90., 125., 115., 115., 131., 117., 116., 119.,\n",
       "        140., 128., 124., 108., 127., 159., 110., 119.,  91.,  60.,  25.,\n",
       "          0.,  14., 116., 123., 131., 125., 122., 129., 113., 108., 108.,\n",
       "        106., 118.,  89.,  79., 126., 119., 123., 140., 119., 121., 122.,\n",
       "        117., 122., 104., 113., 144.,  50.,   1.,   3.,  29.,  39.,  63.,\n",
       "         57.,  47.,  47.,  52.,  59.,  60.,  68.,  64.,  67.,  45.,  37.,\n",
       "         57.,  48.,  41.,  53.,  58.,  48.,  71.,  68.,  62.,  68.,  82.,\n",
       "         36.]),\n",
       " array([ 31.29    ,  33.645984,  36.001968,  38.357952,  40.713936,\n",
       "         43.06992 ,  45.425904,  47.781888,  50.137872,  52.493856,\n",
       "         54.84984 ,  57.205824,  59.561808,  61.917792,  64.273776,\n",
       "         66.62976 ,  68.985744,  71.341728,  73.697712,  76.053696,\n",
       "         78.40968 ,  80.765664,  83.121648,  85.477632,  87.833616,\n",
       "         90.1896  ,  92.545584,  94.901568,  97.257552,  99.613536,\n",
       "        101.96952 , 104.325504, 106.681488, 109.037472, 111.393456,\n",
       "        113.74944 , 116.105424, 118.461408, 120.817392, 123.173376,\n",
       "        125.52936 , 127.885344, 130.241328, 132.597312, 134.953296,\n",
       "        137.30928 , 139.665264, 142.021248, 144.377232, 146.733216,\n",
       "        149.0892  , 151.445184, 153.801168, 156.157152, 158.513136,\n",
       "        160.86912 , 163.225104, 165.581088, 167.937072, 170.293056,\n",
       "        172.64904 , 175.005024, 177.361008, 179.716992, 182.072976,\n",
       "        184.42896 , 186.784944, 189.140928, 191.496912, 193.852896,\n",
       "        196.20888 , 198.564864, 200.920848, 203.276832, 205.632816,\n",
       "        207.9888  , 210.344784, 212.700768, 215.056752, 217.412736,\n",
       "        219.76872 , 222.124704, 224.480688, 226.836672, 229.192656,\n",
       "        231.54864 , 233.904624, 236.260608, 238.616592, 240.972576,\n",
       "        243.32856 , 245.684544, 248.040528, 250.396512, 252.752496,\n",
       "        255.10848 , 257.464464, 259.820448, 262.176432, 264.532416,\n",
       "        266.8884  ]),\n",
       " <BarContainer object of 100 artists>)"
      ]
     },
     "execution_count": 98,
     "metadata": {},
     "output_type": "execute_result"
    },
    {
     "data": {
      "image/png": "[encoded data removed]",
      "text/plain": [
       "<Figure size 640x480 with 1 Axes>"
      ]
     },
     "metadata": {},
     "output_type": "display_data"
    }
   ],
   "source": [
    "# 6 --------- Item_MRP --------- \n",
    "# Numerical Float\n",
    "print(np.min(data[\"Item_MRP\"])) # 31.29\n",
    "print(np.mean(data[\"Item_MRP\"])) # 140.9927819781767\n",
    "print(np.max(data[\"Item_MRP\"])) # 266.8884\n",
    "plt.hist(data[\"Item_MRP\"], bins=100)\n",
    "# Normalize the values\n",
    "# Distribution is not skewed.\n",
    "# ✓"
   ]
  },
  {
   "cell_type": "code",
   "execution_count": null,
   "id": "558ed958",
   "metadata": {},
   "outputs": [
    {
     "name": "stdout",
     "output_type": "stream",
     "text": [
      "Unique Outlet_Identifier: ['OUT049' 'OUT018' 'OUT010' 'OUT013' 'OUT027' 'OUT045' 'OUT017' 'OUT046'\n",
      " 'OUT035' 'OUT019']\n"
     ]
    }
   ],
   "source": [
    "#7 --------- Outlet_Identifier ---------       \n",
    "# Categorical String \n",
    "# Has 10 unique categories.\n",
    "print(f\"Unique Outlet_Identifier:\", pd.unique(data[\"Outlet_Identifier\"]))\n",
    "# If we remove OUT, its just a number. So its will reduce the dimensionality.\n",
    "# ✓"
   ]
  },
  {
   "cell_type": "code",
   "execution_count": null,
   "id": "9c7074ae",
   "metadata": {},
   "outputs": [
    {
     "name": "stdout",
     "output_type": "stream",
     "text": [
      "Unique Outlet_Establishment_Year: 9\n",
      "1985\n",
      "2009\n"
     ]
    }
   ],
   "source": [
    "#  8 --------- Outlet_Establishment_Year ---------\n",
    "# Numerical Int\n",
    "# Distinct 9 years. 1999 2009 1998 1987 1985 2002 2007 1997 2004\n",
    "# Since year is a continuous value, we can simply normalize it instead of treating it as category.\n",
    "# This reduces dimensionality.\n",
    "print(f\"Unique Outlet_Establishment_Year:\", len(pd.unique(data[\"Outlet_Establishment_Year\"])))\n",
    "print(np.min(data[\"Outlet_Establishment_Year\"]))\n",
    "print(np.max(data[\"Outlet_Establishment_Year\"]))\n",
    "# ✓"
   ]
  },
  {
   "cell_type": "code",
   "execution_count": 42,
   "id": "c0d0e210",
   "metadata": {},
   "outputs": [
    {
     "name": "stdout",
     "output_type": "stream",
     "text": [
      "Unique Outlet_Size: ['Medium' 'Small' 'High']\n",
      "0\n",
      "['Small']\n",
      "0\n"
     ]
    },
    {
     "name": "stderr",
     "output_type": "stream",
     "text": [
      "C:\\Users\\miu3kor\\AppData\\Local\\Temp\\ipykernel_24032\\3947101747.py:17: SettingWithCopyWarning: \n",
      "A value is trying to be set on a copy of a slice from a DataFrame\n",
      "\n",
      "See the caveats in the documentation: https://pandas.pydata.org/pandas-docs/stable/user_guide/indexing.html#returning-a-view-versus-a-copy\n",
      "  data[\"Outlet_Size\"][data[\"Outlet_Identifier\"]=='OUT045'] = 'Small'\n",
      "C:\\Users\\miu3kor\\AppData\\Local\\Temp\\ipykernel_24032\\3947101747.py:18: SettingWithCopyWarning: \n",
      "A value is trying to be set on a copy of a slice from a DataFrame\n",
      "\n",
      "See the caveats in the documentation: https://pandas.pydata.org/pandas-docs/stable/user_guide/indexing.html#returning-a-view-versus-a-copy\n",
      "  data[\"Outlet_Size\"][data[\"Outlet_Identifier\"]=='OUT017'] = 'Small'\n",
      "C:\\Users\\miu3kor\\AppData\\Local\\Temp\\ipykernel_24032\\3947101747.py:19: SettingWithCopyWarning: \n",
      "A value is trying to be set on a copy of a slice from a DataFrame\n",
      "\n",
      "See the caveats in the documentation: https://pandas.pydata.org/pandas-docs/stable/user_guide/indexing.html#returning-a-view-versus-a-copy\n",
      "  data[\"Outlet_Size\"][data[\"Outlet_Identifier\"]=='OUT010'] = 'Small'\n"
     ]
    }
   ],
   "source": [
    "#9 --------- Outlet_Size ---------\n",
    "# Categorical String\n",
    "# Categories ['Medium' 'High' 'Small']. \n",
    "print(f\"Unique Outlet_Size:\", pd.unique(data[\"Outlet_Size\"]))\n",
    "# Has NaN. 2410 rows. Cant simply drop them.\n",
    "nan_outlets = pd.unique(data[\"Outlet_Identifier\"][data[\"Outlet_Size\"].isna()])\n",
    "print(len(data[\"Outlet_Identifier\"][data[\"Outlet_Size\"].isna()]))\n",
    "# Only 3 outlets 'OUT010', 'OUT045', 'OUT017' have size NaN. We can just copy from valid rows.\n",
    "print(pd.unique(data[\"Outlet_Size\"][\n",
    "     (data['Outlet_Type']=='Grocery Store')]))\n",
    "#print(data[data[\"Outlet_Identifier\"] == 'OUT045'][['Outlet_Size', 'Outlet_Location_Type', 'Outlet_Type']])\n",
    "#OUT010  Tier 3  Grocery Store\n",
    "#OUT045 Tier 2  Supermarket Type1\n",
    "#OUT017 Tier 2  Supermarket Type1\n",
    "# Every Tier 2  Supermarket Type1 combination is Small\n",
    "# Every Grocery Store is Small\n",
    "data[\"Outlet_Size\"][data[\"Outlet_Identifier\"]=='OUT045'] = 'Small'\n",
    "data[\"Outlet_Size\"][data[\"Outlet_Identifier\"]=='OUT017'] = 'Small'\n",
    "data[\"Outlet_Size\"][data[\"Outlet_Identifier\"]=='OUT010'] = 'Small'\n",
    "print(len(data[\"Outlet_Identifier\"][data[\"Outlet_Size\"].isna()]))\n",
    "# ✓"
   ]
  },
  {
   "cell_type": "code",
   "execution_count": null,
   "id": "6444bb57",
   "metadata": {},
   "outputs": [
    {
     "name": "stdout",
     "output_type": "stream",
     "text": [
      "Unique Outlet_Location_Type: 3\n"
     ]
    }
   ],
   "source": [
    "# 10 --------- Outlet_Location_Type ---------\n",
    "# Categorical String\n",
    "print(f\"Unique Outlet_Location_Type:\", len(pd.unique(data[\"Outlet_Location_Type\"])))\n",
    "# Outlet_Location_Type. 3 categories. Try both Categ & numer ['Tier 1' 'Tier 3' 'Tier 2']\n",
    "# try numerical ordered not one hot encoding to reduce dimensionality\n",
    "# ✓"
   ]
  },
  {
   "cell_type": "code",
   "execution_count": null,
   "id": "9f0614df",
   "metadata": {},
   "outputs": [
    {
     "name": "stdout",
     "output_type": "stream",
     "text": [
      "Unique Outlet_Type: 4\n"
     ]
    }
   ],
   "source": [
    "\n",
    "#11 Outlet_Type\n",
    "print(f\"Unique Outlet_Type:\", len(pd.unique(data[\"Outlet_Type\"])))\n",
    "for outlet in pd.unique(data[\"Outlet_Identifier\"]):\n",
    "    outlet_types = pd.unique(data[\"Outlet_Type\"][data[\"Outlet_Identifier\"]==outlet])\n",
    "    if len(outlet_types) > 1:\n",
    "        print(outlet, outlet_types)\n",
    "    # No mapping to multiple types.\n",
    "\n",
    "# Unique 4 catogories. ['Supermarket Type1' 'Supermarket Type2' 'Grocery Store' 'Supermarket Type3']\n",
    "# Assuming Grocery stores are smaller than Supermarket, we can assign 0,1,2,3 to these categories.\n",
    "# This will reduce dimensionality.\n",
    "# ✓"
   ]
  },
  {
   "cell_type": "code",
   "execution_count": 44,
   "id": "ce862b1e",
   "metadata": {},
   "outputs": [
    {
     "name": "stdout",
     "output_type": "stream",
     "text": [
      "33.29\n",
      "2181.188779387252\n",
      "13086.9648\n"
     ]
    },
    {
     "data": {
      "text/plain": [
       "(array([  2.,   0.,   0.,   0.,   0.,   0.,   0.,   0.,   0.,   0.,   0.,\n",
       "          0.,   0.,   0.,   0.,   1.,   1.,   1.,   0.,   3.,   7.,   2.,\n",
       "          5.,   7.,  12.,  14.,  19.,  22.,  27.,  39.,  44.,  58.,  68.,\n",
       "         78.,  95., 117., 129., 152., 172., 196., 218., 238., 267., 275.,\n",
       "        300., 315., 334., 343., 347., 355., 347., 347., 342., 334., 319.,\n",
       "        298., 278., 260., 240., 220., 194., 174., 150., 132., 114.,  97.,\n",
       "         81.,  68.,  55.,  47.,  34.,  30.,  23.,  18.,  16.,   8.,   8.,\n",
       "          6.,   5.,   3.,   4.,   2.,   0.,   1.,   0.,   0.,   0.,   0.,\n",
       "          0.,   0.,   0.,   0.,   0.,   0.,   0.,   0.,   0.,   0.,   0.,\n",
       "          1.]),\n",
       " array([-5.19933758e+00, -5.09535083e+00, -4.99136408e+00, -4.88737733e+00,\n",
       "        -4.78339058e+00, -4.67940382e+00, -4.57541707e+00, -4.47143032e+00,\n",
       "        -4.36744357e+00, -4.26345682e+00, -4.15947007e+00, -4.05548331e+00,\n",
       "        -3.95149656e+00, -3.84750981e+00, -3.74352306e+00, -3.63953631e+00,\n",
       "        -3.53554956e+00, -3.43156280e+00, -3.32757605e+00, -3.22358930e+00,\n",
       "        -3.11960255e+00, -3.01561580e+00, -2.91162905e+00, -2.80764229e+00,\n",
       "        -2.70365554e+00, -2.59966879e+00, -2.49568204e+00, -2.39169529e+00,\n",
       "        -2.28770854e+00, -2.18372178e+00, -2.07973503e+00, -1.97574828e+00,\n",
       "        -1.87176153e+00, -1.76777478e+00, -1.66378803e+00, -1.55980127e+00,\n",
       "        -1.45581452e+00, -1.35182777e+00, -1.24784102e+00, -1.14385427e+00,\n",
       "        -1.03986752e+00, -9.35880765e-01, -8.31894013e-01, -7.27907262e-01,\n",
       "        -6.23920510e-01, -5.19933758e-01, -4.15947007e-01, -3.11960255e-01,\n",
       "        -2.07973503e-01, -1.03986752e-01,  4.89217555e-11,  1.03986752e-01,\n",
       "         2.07973503e-01,  3.11960255e-01,  4.15947007e-01,  5.19933758e-01,\n",
       "         6.23920510e-01,  7.27907262e-01,  8.31894013e-01,  9.35880765e-01,\n",
       "         1.03986752e+00,  1.14385427e+00,  1.24784102e+00,  1.35182777e+00,\n",
       "         1.45581452e+00,  1.55980127e+00,  1.66378803e+00,  1.76777478e+00,\n",
       "         1.87176153e+00,  1.97574828e+00,  2.07973503e+00,  2.18372178e+00,\n",
       "         2.28770854e+00,  2.39169529e+00,  2.49568204e+00,  2.59966879e+00,\n",
       "         2.70365554e+00,  2.80764229e+00,  2.91162905e+00,  3.01561580e+00,\n",
       "         3.11960255e+00,  3.22358930e+00,  3.32757605e+00,  3.43156280e+00,\n",
       "         3.53554956e+00,  3.63953631e+00,  3.74352306e+00,  3.84750981e+00,\n",
       "         3.95149656e+00,  4.05548331e+00,  4.15947007e+00,  4.26345682e+00,\n",
       "         4.36744357e+00,  4.47143032e+00,  4.57541707e+00,  4.67940382e+00,\n",
       "         4.78339058e+00,  4.88737733e+00,  4.99136408e+00,  5.09535083e+00,\n",
       "         5.19933758e+00]),\n",
       " <BarContainer object of 100 artists>)"
      ]
     },
     "execution_count": 44,
     "metadata": {},
     "output_type": "execute_result"
    },
    {
     "data": {
      "image/png": "[encoded data removed]",
      "text/plain": [
       "<Figure size 640x480 with 1 Axes>"
      ]
     },
     "metadata": {},
     "output_type": "display_data"
    }
   ],
   "source": [
    "# 12 --------- Item_Outlet_Sales ---------\n",
    "# Numerical Float \n",
    "# Normalize  \n",
    "# This column is output  y  \n",
    "print(np.min(data[\"Item_Outlet_Sales\"])) # 33.29\n",
    "print(np.mean(data[\"Item_Outlet_Sales\"])) # 2181.288913575032\n",
    "print(np.max(data[\"Item_Outlet_Sales\"])) # 13086.9648\n",
    "#plt.hist(data[\"Item_Outlet_Sales\"], bins=100)\n",
    "# Data is heavily skewed towards zero. May not be easy to predict high values.\n",
    "# Simple min max normalization might result in lot of low values in the y.\n",
    "# Let transform it to make it less skewed.\n",
    "from sklearn.preprocessing import QuantileTransformer\n",
    "\n",
    "qt = QuantileTransformer(output_distribution='normal')\n",
    "transformed = qt.fit_transform(data[\"Item_Outlet_Sales\"].values.reshape(-1, 1))\n",
    "plt.hist(transformed, bins=100)"
   ]
  }
 ],
 "metadata": {
  "kernelspec": {
   "display_name": "Python 3",
   "language": "python",
   "name": "python3"
  },
  "language_info": {
   "codemirror_mode": {
    "name": "ipython",
    "version": 3
   },
   "file_extension": ".py",
   "mimetype": "text/x-python",
   "name": "python",
   "nbconvert_exporter": "python",
   "pygments_lexer": "ipython3",
   "version": "3.11.9"
  }
 },
 "nbformat": 4,
 "nbformat_minor": 5
}
